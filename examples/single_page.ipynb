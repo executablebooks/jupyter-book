{
 "cells": [
  {
   "cell_type": "markdown",
   "metadata": {},
   "source": [
    "# A notebook to demonstrate single-page outputs"
   ]
  },
  {
   "cell_type": "markdown",
   "metadata": {
    "user_expressions": []
   },
   "source": [
    "## Footnotes\n",
    "\n",
    "You can include footnotes in your single page like so: [^foot1]"
   ]
  },
  {
   "cell_type": "markdown",
   "metadata": {
    "user_expressions": []
   },
   "source": [
    "# Margin\n",
    "\n",
    "Margin works:\n",
    "\n",
    "```{margin}\n",
    "This is my margin\n",
    "```"
   ]
  },
  {
   "cell_type": "markdown",
   "metadata": {
    "user_expressions": []
   },
   "source": [
    "## Toggle\n",
    "\n",
    "Toggle works as well:\n",
    "\n",
    "````{toggle}\n",
    "```{note}\n",
    "Wow, a toggled note!\n",
    "```\n",
    "````"
   ]
  },
  {
   "cell_type": "markdown",
   "metadata": {
    "user_expressions": []
   },
   "source": [
    "# Python and outputs"
   ]
  },
  {
   "cell_type": "code",
   "execution_count": 3,
   "metadata": {
    "tags": []
   },
   "outputs": [],
   "source": [
    "import pandas as pd \n",
    "import numpy as np"
   ]
  },
  {
   "cell_type": "code",
   "execution_count": 5,
   "metadata": {
    "tags": []
   },
   "outputs": [
    {
     "data": {
      "text/plain": [
       "<Axes: xlabel='A', ylabel='B'>"
      ]
     },
     "execution_count": 5,
     "metadata": {},
     "output_type": "execute_result"
    },
    {
     "data": {
      "image/png": "[encoded data removed]",
      "text/plain": [
       "<Figure size 640x480 with 1 Axes>"
      ]
     },
     "metadata": {},
     "output_type": "display_data"
    }
   ],
   "source": [
    "df = pd.DataFrame(np.random.randn(100, 3), columns=[\"A\", \"B\", \"C\"])\n",
    "df.plot.scatter(\"A\", \"B\")"
   ]
  },
  {
   "cell_type": "code",
   "execution_count": 6,
   "metadata": {
    "tags": []
   },
   "outputs": [
    {
     "name": "stderr",
     "output_type": "stream",
     "text": [
      "/home/choldgraf/anaconda/envs/dev/lib/python3.9/site-packages/altair/utils/core.py:283: FutureWarning: iteritems is deprecated and will be removed in a future version. Use .items instead.\n",
      "  for col_name, dtype in df.dtypes.iteritems():\n"
     ]
    },
    {
     "data": {
      "text/html": [
       "\n",
       "<div id=\"altair-viz-68f82743cff24e97a4bf06d8ba289363\"></div>\n",
       "<script type=\"text/javascript\">\n",
       "  (function(spec, embedOpt){\n",
       "    let outputDiv = document.currentScript.previousElementSibling;\n",
       "    if (outputDiv.id !== \"altair-viz-68f82743cff24e97a4bf06d8ba289363\") {\n",
       "      outputDiv = document.getElementById(\"altair-viz-68f82743cff24e97a4bf06d8ba289363\");\n",
       "    }\n",
       "    const paths = {\n",
       "      \"vega\": \"https://cdn.jsdelivr.net/npm//vega@5?noext\",\n",
       "      \"vega-lib\": \"https://cdn.jsdelivr.net/npm//vega-lib?noext\",\n",
       "      \"vega-lite\": \"https://cdn.jsdelivr.net/npm//vega-lite@4.8.1?noext\",\n",
       "      \"vega-embed\": \"https://cdn.jsdelivr.net/npm//vega-embed@6?noext\",\n",
       "    };\n",
       "\n",
       "    function loadScript(lib) {\n",
       "      return new Promise(function(resolve, reject) {\n",
       "        var s = document.createElement('script');\n",
       "        s.src = paths[lib];\n",
       "        s.async = true;\n",
       "        s.onload = () => resolve(paths[lib]);\n",
       "        s.onerror = () => reject(`Error loading script: ${paths[lib]}`);\n",
       "        document.getElementsByTagName(\"head\")[0].appendChild(s);\n",
       "      });\n",
       "    }\n",
       "\n",
       "    function showError(err) {\n",
       "      outputDiv.innerHTML = `<div class=\"error\" style=\"color:red;\">${err}</div>`;\n",
       "      throw err;\n",
       "    }\n",
       "\n",
       "    function displayChart(vegaEmbed) {\n",
       "      vegaEmbed(outputDiv, spec, embedOpt)\n",
       "        .catch(err => showError(`Javascript Error: ${err.message}<br>This usually means there's a typo in your chart specification. See the javascript console for the full traceback.`));\n",
       "    }\n",
       "\n",
       "    if(typeof define === \"function\" && define.amd) {\n",
       "      requirejs.config({paths});\n",
       "      require([\"vega-embed\"], displayChart, err => showError(`Error loading script: ${err.message}`));\n",
       "    } else if (typeof vegaEmbed === \"function\") {\n",
       "      displayChart(vegaEmbed);\n",
       "    } else {\n",
       "      loadScript(\"vega\")\n",
       "        .then(() => loadScript(\"vega-lite\"))\n",
       "        .then(() => loadScript(\"vega-embed\"))\n",
       "        .catch(showError)\n",
       "        .then(() => displayChart(vegaEmbed));\n",
       "    }\n",
       "  })({\"config\": {\"view\": {\"continuousWidth\": 400, \"continuousHeight\": 300}}, \"data\": {\"name\": \"data-9879707e5312363741888cf9059ed6f6\"}, \"mark\": \"point\", \"encoding\": {\"size\": {\"type\": \"quantitative\", \"field\": \"C\"}, \"x\": {\"type\": \"quantitative\", \"field\": \"A\"}, \"y\": {\"type\": \"quantitative\", \"field\": \"B\"}}, \"$schema\": \"https://vega.github.io/schema/vega-lite/v4.8.1.json\", \"datasets\": {\"data-9879707e5312363741888cf9059ed6f6\": [{\"A\": 0.4717458434784722, \"B\": 0.4525190041500952, \"C\": 1.372412560931722}, {\"A\": -0.7841757757057077, \"B\": 1.3695065247365579, \"C\": -1.5582652608284202}, {\"A\": -0.2605050456332751, \"B\": -0.2537190390981143, \"C\": 0.8520099442046825}, {\"A\": 1.3460839877516735, \"B\": 1.44611847083577, \"C\": 0.2675352369713224}, {\"A\": 1.2821736060060653, \"B\": -0.16635253357547763, \"C\": 3.2978847964489697}, {\"A\": 0.26737358172094494, \"B\": -0.8245203437181584, \"C\": -1.2931031077585207}, {\"A\": 0.08479543862731903, \"B\": -1.0894960612054483, \"C\": 1.3471471557436767}, {\"A\": -0.41702010033228726, \"B\": 0.6449877357279457, \"C\": -0.6643814259592623}, {\"A\": 0.3648808084799241, \"B\": 0.21619377209067858, \"C\": 1.0438497217842675}, {\"A\": 0.5471153180890188, \"B\": -1.1417152099326786, \"C\": 0.9665656584050402}, {\"A\": 0.764116274092005, \"B\": 0.035396331752579197, \"C\": -0.936997473074744}, {\"A\": -0.3532526226458787, \"B\": 0.33698911581095525, \"C\": 0.06633590660244386}, {\"A\": 1.1330868357912758, \"B\": -1.4194459262847254, \"C\": 0.6380139218420453}, {\"A\": 1.782720688646405, \"B\": -1.2889867523591172, \"C\": 0.057331967347687085}, {\"A\": -1.0825205040896366, \"B\": 0.35604428460489557, \"C\": 0.8647167954877258}, {\"A\": 0.40374266973506573, \"B\": 0.3076436719523166, \"C\": 0.12279321601623669}, {\"A\": 2.020691687266852, \"B\": 0.45304230151117025, \"C\": -0.21095054689454454}, {\"A\": -0.3773602286252955, \"B\": -1.834015882586461, \"C\": -0.9018941891304111}, {\"A\": -0.06609329120366099, \"B\": 2.8322746235868785, \"C\": -0.44060425297894773}, {\"A\": 0.25720083831220875, \"B\": 0.9849473025531533, \"C\": -1.4165877000592282}, {\"A\": -0.3556638836833058, \"B\": -0.03403741022417269, \"C\": -2.073609902926931}, {\"A\": -0.5372895859880805, \"B\": -0.7030718535425458, \"C\": -0.17467277517956112}, {\"A\": 0.5809133542880032, \"B\": 1.8674916762579983, \"C\": 0.9315131382988464}, {\"A\": -0.51697898125796, \"B\": 1.046068072608907, \"C\": -0.10560428868015437}, {\"A\": 0.08413149235680152, \"B\": 1.6580801240490466, \"C\": -1.6727936114150386}, {\"A\": -0.2068634593037598, \"B\": -1.018545314435564, \"C\": 0.4932089532934548}, {\"A\": -0.6275130424349623, \"B\": 0.052258975810865006, \"C\": -0.31374297777436916}, {\"A\": 1.1654001781855303, \"B\": 0.0261223225243268, \"C\": -0.21621011630395595}, {\"A\": 1.1052970050190665, \"B\": -0.5048541016632573, \"C\": -0.8520840806877408}, {\"A\": -0.028401986574578392, \"B\": -0.3002585352055869, \"C\": 0.8705107012954201}, {\"A\": 0.6990396416905909, \"B\": 0.6047255653234125, \"C\": -0.04445582746112011}, {\"A\": -1.4774112009767117, \"B\": -0.1914257670494002, \"C\": 2.686063791794471}, {\"A\": -0.8796151665267897, \"B\": 0.04756899702925439, \"C\": -0.27328093776968004}, {\"A\": 0.7274192695382214, \"B\": 0.4260435231292963, \"C\": 0.9376226465418958}, {\"A\": 0.5568907226238468, \"B\": 0.08217988018752706, \"C\": -0.7357969219116793}, {\"A\": 0.283635887961127, \"B\": -0.4452278765763613, \"C\": -0.3117523945399485}, {\"A\": 0.9738370405104951, \"B\": -0.4335693541314092, \"C\": 0.3733640350338369}, {\"A\": -0.92026099894201, \"B\": -1.3672709183399192, \"C\": -0.9478566456704943}, {\"A\": -0.22138139207564547, \"B\": 0.3591605287662831, \"C\": -0.4881051181712511}, {\"A\": -0.9282380166519427, \"B\": 0.29071816862670397, \"C\": -0.2590748359112801}, {\"A\": -0.7510775572670284, \"B\": 2.1787625692207135, \"C\": -0.4555777045549844}, {\"A\": 0.8622954505729507, \"B\": 0.9349485839468756, \"C\": -2.0165620297404296}, {\"A\": -1.0115100338477405, \"B\": 0.6138513551697343, \"C\": 0.6596881407936335}, {\"A\": 0.4716965055334018, \"B\": -0.9528798239499798, \"C\": 1.44388636530718}, {\"A\": -2.070786096617646, \"B\": -2.0832234483346976, \"C\": -0.8202887619990339}, {\"A\": 1.114443627685886, \"B\": 0.6949170788257766, \"C\": -0.12669136443387388}, {\"A\": -0.5643930801388457, \"B\": 0.7515247306374759, \"C\": 0.1807672427246265}, {\"A\": 0.8791714735750946, \"B\": -1.732168116222991, \"C\": 0.4926755485151456}, {\"A\": -1.024704290090741, \"B\": 1.0281790826749422, \"C\": 0.7955496610495977}, {\"A\": -0.8299741558078219, \"B\": -0.4339960434322727, \"C\": 2.356571175998003}, {\"A\": 0.10582342045465144, \"B\": -0.4374826921786196, \"C\": -0.4462079059400908}, {\"A\": -1.557655598935264, \"B\": 1.1462734943796562, \"C\": -0.8408383165118501}, {\"A\": -0.9086621813329085, \"B\": -1.0114349693438573, \"C\": 0.2036840732299553}, {\"A\": 0.2388027265738428, \"B\": 0.906190779223716, \"C\": -1.5539656363129202}, {\"A\": -1.5957988157540608, \"B\": 0.1620614111092368, \"C\": 0.6406033553679784}, {\"A\": -1.3636634293372876, \"B\": 1.5516327822941214, \"C\": 0.16049578433460232}, {\"A\": 1.543224787489724, \"B\": 0.8113333328443897, \"C\": 1.135344641204478}, {\"A\": -0.3520474286669351, \"B\": 0.3601742660335024, \"C\": 0.3016706809013036}, {\"A\": 1.8442645690459283, \"B\": -0.7990405066444579, \"C\": 0.9453684224496571}, {\"A\": -0.43367409137092555, \"B\": -1.0283684268258868, \"C\": 0.4084775209844453}, {\"A\": 0.6271235439561104, \"B\": -0.9955979784408202, \"C\": 1.4465181730901204}, {\"A\": 0.014989837368002874, \"B\": 0.578768763111945, \"C\": 0.38638625645542457}, {\"A\": 0.42434563475545056, \"B\": -0.47723164717067235, \"C\": 1.551990895157701}, {\"A\": 0.06540601586012011, \"B\": 0.19460549232747715, \"C\": -0.9274539477079875}, {\"A\": -0.4828171242820945, \"B\": 0.11393210669381297, \"C\": 0.7809805489953519}, {\"A\": 1.801960058234944, \"B\": -0.2731617877248589, \"C\": 0.402264732058775}, {\"A\": 0.21510890545888778, \"B\": 1.0357123846228344, \"C\": -0.7609359761429945}, {\"A\": 1.253152465930831, \"B\": 0.06850185908101546, \"C\": -1.0956849614523891}, {\"A\": -0.4943242079907806, \"B\": 0.9123800085894019, \"C\": 0.09889144158059535}, {\"A\": -0.046054719553060376, \"B\": 0.1087865007710806, \"C\": -1.408516912217587}, {\"A\": -0.8970306949721476, \"B\": -0.9602974514254814, \"C\": -0.8777785414676516}, {\"A\": -1.2171130630899039, \"B\": -0.682699558816942, \"C\": -0.8739996726962516}, {\"A\": -1.8107652622976271, \"B\": -1.6126109497168588, \"C\": 0.9731858955661857}, {\"A\": 0.43405967021191216, \"B\": -0.7210748894276251, \"C\": -1.0000003915796183}, {\"A\": 0.2997645288082834, \"B\": -1.581366041637297, \"C\": -0.41371049822085637}, {\"A\": -0.3024665142675283, \"B\": -1.4089070034462374, \"C\": -0.7247514684358352}, {\"A\": -0.7835096478380168, \"B\": 0.23932149212917853, \"C\": 0.5037357944615787}, {\"A\": 0.4584329641779811, \"B\": -0.8054570558072742, \"C\": 1.1022853692497563}, {\"A\": 0.7091645289357643, \"B\": 0.05708850818178486, \"C\": -0.8005617157409876}, {\"A\": 0.5334283690499981, \"B\": -1.096035780387091, \"C\": 1.0182215154481904}, {\"A\": -3.135735818436934, \"B\": 0.6881390181108535, \"C\": 0.3945174754293533}, {\"A\": -0.005544581914276125, \"B\": -0.15638475848081143, \"C\": -0.4710398447699817}, {\"A\": -0.026856147482649594, \"B\": -1.4395956016947284, \"C\": -1.438022772369667}, {\"A\": -0.030996439402641005, \"B\": -1.2040538720879226, \"C\": 1.0819079581195223}, {\"A\": -0.2257753034577079, \"B\": 0.8353558647727402, \"C\": 0.8259471190378886}, {\"A\": -2.1008299218674735, \"B\": -0.11492832819307763, \"C\": 0.2660633086132843}, {\"A\": 1.1831689755285686, \"B\": -0.30275272919040297, \"C\": -1.8636957510175858}, {\"A\": 0.8009615516422032, \"B\": 0.19028710530712437, \"C\": -2.048290959639305}, {\"A\": -0.7108294130434984, \"B\": -0.6192113132112482, \"C\": -0.3139307729128739}, {\"A\": -0.9950162268934533, \"B\": -0.9449854624230237, \"C\": -0.8224285313022253}, {\"A\": -1.6312564732086987, \"B\": -0.5796546917203702, \"C\": 0.6788622737299606}, {\"A\": -0.016463302732546006, \"B\": -2.1056031377444793, \"C\": 0.03319703607780666}, {\"A\": -0.6067422162061097, \"B\": 0.14196781513648984, \"C\": -0.5661146735264074}, {\"A\": -0.016979426440158853, \"B\": -1.1329206139805548, \"C\": 0.749664682058751}, {\"A\": -0.9483023542145246, \"B\": 0.4353141148599703, \"C\": 0.15317442327922368}, {\"A\": -0.027452739176889195, \"B\": 0.2991580945609082, \"C\": -0.1635431522606382}, {\"A\": -1.0548667794789421, \"B\": -0.19831595962004495, \"C\": -0.28634098156171844}, {\"A\": 1.2383047053454979, \"B\": 0.7230559504180407, \"C\": -0.322025030665843}, {\"A\": 0.2443919658417581, \"B\": 0.41468094225542923, \"C\": 0.014565254924718971}, {\"A\": 0.24782280976993049, \"B\": 0.5147193377000792, \"C\": -0.4624184884163874}]}}, {\"mode\": \"vega-lite\"});\n",
       "</script>"
      ],
      "text/plain": [
       "alt.Chart(...)"
      ]
     },
     "execution_count": 6,
     "metadata": {},
     "output_type": "execute_result"
    }
   ],
   "source": [
    "import altair as alt\n",
    "alt.Chart(data=df).mark_point().encode(\n",
    "    x=\"A\",\n",
    "    y=\"B\",\n",
    "    size=\"C\"\n",
    ")"
   ]
  },
  {
   "cell_type": "markdown",
   "metadata": {},
   "source": [
    "[^foot1]: Wow, a footnote!"
   ]
  }
 ],
 "metadata": {
  "kernelspec": {
   "display_name": "Python 3 (ipykernel)",
   "language": "python",
   "name": "python3"
  },
  "language_info": {
   "codemirror_mode": {
    "name": "ipython",
    "version": 3
   },
   "file_extension": ".py",
   "mimetype": "text/x-python",
   "name": "python",
   "nbconvert_exporter": "python",
   "pygments_lexer": "ipython3",
   "version": "3.9.7"
  }
 },
 "nbformat": 4,
 "nbformat_minor": 4
}
